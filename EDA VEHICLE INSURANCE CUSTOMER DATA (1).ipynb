{
 "cells": [
  {
   "cell_type": "code",
   "execution_count": 1,
   "id": "5fb03825",
   "metadata": {},
   "outputs": [],
   "source": [
    "import pandas as pd\n",
    "import numpy as np"
   ]
  },
  {
   "cell_type": "code",
   "execution_count": 2,
   "id": "833c7817",
   "metadata": {},
   "outputs": [
    {
     "data": {
      "text/html": [
       "<div>\n",
       "<style scoped>\n",
       "    .dataframe tbody tr th:only-of-type {\n",
       "        vertical-align: middle;\n",
       "    }\n",
       "\n",
       "    .dataframe tbody tr th {\n",
       "        vertical-align: top;\n",
       "    }\n",
       "\n",
       "    .dataframe thead th {\n",
       "        text-align: right;\n",
       "    }\n",
       "</style>\n",
       "<table border=\"1\" class=\"dataframe\">\n",
       "  <thead>\n",
       "    <tr style=\"text-align: right;\">\n",
       "      <th></th>\n",
       "      <th>0</th>\n",
       "      <th>1</th>\n",
       "      <th>2</th>\n",
       "      <th>3</th>\n",
       "      <th>4</th>\n",
       "      <th>5</th>\n",
       "      <th>6</th>\n",
       "      <th>7</th>\n",
       "    </tr>\n",
       "  </thead>\n",
       "  <tbody>\n",
       "    <tr>\n",
       "      <th>0</th>\n",
       "      <td>1.0</td>\n",
       "      <td>Male</td>\n",
       "      <td>44.0</td>\n",
       "      <td>1.0</td>\n",
       "      <td>28.0</td>\n",
       "      <td>0.0</td>\n",
       "      <td>&gt; 2 Years</td>\n",
       "      <td>Yes</td>\n",
       "    </tr>\n",
       "    <tr>\n",
       "      <th>1</th>\n",
       "      <td>2.0</td>\n",
       "      <td>Male</td>\n",
       "      <td>76.0</td>\n",
       "      <td>1.0</td>\n",
       "      <td>3.0</td>\n",
       "      <td>0.0</td>\n",
       "      <td>1-2 Year</td>\n",
       "      <td>No</td>\n",
       "    </tr>\n",
       "    <tr>\n",
       "      <th>2</th>\n",
       "      <td>3.0</td>\n",
       "      <td>Male</td>\n",
       "      <td>47.0</td>\n",
       "      <td>1.0</td>\n",
       "      <td>28.0</td>\n",
       "      <td>0.0</td>\n",
       "      <td>&gt; 2 Years</td>\n",
       "      <td>Yes</td>\n",
       "    </tr>\n",
       "    <tr>\n",
       "      <th>3</th>\n",
       "      <td>4.0</td>\n",
       "      <td>Male</td>\n",
       "      <td>21.0</td>\n",
       "      <td>1.0</td>\n",
       "      <td>11.0</td>\n",
       "      <td>1.0</td>\n",
       "      <td>&lt; 1 Year</td>\n",
       "      <td>No</td>\n",
       "    </tr>\n",
       "    <tr>\n",
       "      <th>4</th>\n",
       "      <td>5.0</td>\n",
       "      <td>Female</td>\n",
       "      <td>29.0</td>\n",
       "      <td>1.0</td>\n",
       "      <td>41.0</td>\n",
       "      <td>1.0</td>\n",
       "      <td>&lt; 1 Year</td>\n",
       "      <td>No</td>\n",
       "    </tr>\n",
       "    <tr>\n",
       "      <th>...</th>\n",
       "      <td>...</td>\n",
       "      <td>...</td>\n",
       "      <td>...</td>\n",
       "      <td>...</td>\n",
       "      <td>...</td>\n",
       "      <td>...</td>\n",
       "      <td>...</td>\n",
       "      <td>...</td>\n",
       "    </tr>\n",
       "    <tr>\n",
       "      <th>381104</th>\n",
       "      <td>381105.0</td>\n",
       "      <td>Male</td>\n",
       "      <td>74.0</td>\n",
       "      <td>1.0</td>\n",
       "      <td>26.0</td>\n",
       "      <td>1.0</td>\n",
       "      <td>1-2 Year</td>\n",
       "      <td>No</td>\n",
       "    </tr>\n",
       "    <tr>\n",
       "      <th>381105</th>\n",
       "      <td>381106.0</td>\n",
       "      <td>Male</td>\n",
       "      <td>30.0</td>\n",
       "      <td>1.0</td>\n",
       "      <td>37.0</td>\n",
       "      <td>1.0</td>\n",
       "      <td>&lt; 1 Year</td>\n",
       "      <td>No</td>\n",
       "    </tr>\n",
       "    <tr>\n",
       "      <th>381106</th>\n",
       "      <td>381107.0</td>\n",
       "      <td>Male</td>\n",
       "      <td>21.0</td>\n",
       "      <td>1.0</td>\n",
       "      <td>30.0</td>\n",
       "      <td>1.0</td>\n",
       "      <td>&lt; 1 Year</td>\n",
       "      <td>No</td>\n",
       "    </tr>\n",
       "    <tr>\n",
       "      <th>381107</th>\n",
       "      <td>381108.0</td>\n",
       "      <td>Female</td>\n",
       "      <td>68.0</td>\n",
       "      <td>1.0</td>\n",
       "      <td>14.0</td>\n",
       "      <td>0.0</td>\n",
       "      <td>&gt; 2 Years</td>\n",
       "      <td>Yes</td>\n",
       "    </tr>\n",
       "    <tr>\n",
       "      <th>381108</th>\n",
       "      <td>381109.0</td>\n",
       "      <td>Male</td>\n",
       "      <td>46.0</td>\n",
       "      <td>1.0</td>\n",
       "      <td>29.0</td>\n",
       "      <td>0.0</td>\n",
       "      <td>1-2 Year</td>\n",
       "      <td>No</td>\n",
       "    </tr>\n",
       "  </tbody>\n",
       "</table>\n",
       "<p>381109 rows × 8 columns</p>\n",
       "</div>"
      ],
      "text/plain": [
       "               0       1     2    3     4    5          6    7\n",
       "0            1.0    Male  44.0  1.0  28.0  0.0  > 2 Years  Yes\n",
       "1            2.0    Male  76.0  1.0   3.0  0.0   1-2 Year   No\n",
       "2            3.0    Male  47.0  1.0  28.0  0.0  > 2 Years  Yes\n",
       "3            4.0    Male  21.0  1.0  11.0  1.0   < 1 Year   No\n",
       "4            5.0  Female  29.0  1.0  41.0  1.0   < 1 Year   No\n",
       "...          ...     ...   ...  ...   ...  ...        ...  ...\n",
       "381104  381105.0    Male  74.0  1.0  26.0  1.0   1-2 Year   No\n",
       "381105  381106.0    Male  30.0  1.0  37.0  1.0   < 1 Year   No\n",
       "381106  381107.0    Male  21.0  1.0  30.0  1.0   < 1 Year   No\n",
       "381107  381108.0  Female  68.0  1.0  14.0  0.0  > 2 Years  Yes\n",
       "381108  381109.0    Male  46.0  1.0  29.0  0.0   1-2 Year   No\n",
       "\n",
       "[381109 rows x 8 columns]"
      ]
     },
     "execution_count": 2,
     "metadata": {},
     "output_type": "execute_result"
    }
   ],
   "source": [
    "df1 = pd.read_csv('customer_details.csv')\n",
    "df1"
   ]
  },
  {
   "cell_type": "code",
   "execution_count": 3,
   "id": "de708b1b",
   "metadata": {},
   "outputs": [
    {
     "data": {
      "text/plain": [
       "Index(['0', '1', '2', '3', '4', '5', '6', '7'], dtype='object')"
      ]
     },
     "execution_count": 3,
     "metadata": {},
     "output_type": "execute_result"
    }
   ],
   "source": [
    "df1.columns"
   ]
  },
  {
   "cell_type": "code",
   "execution_count": 4,
   "id": "d77bc50a",
   "metadata": {},
   "outputs": [],
   "source": [
    "df1.columns=['Customer_id','Gender','Age','Driving_Licence_Present','Region_Code','Previously_Insured','Vehicle_Age','Vehicle_Damage']"
   ]
  },
  {
   "cell_type": "code",
   "execution_count": 5,
   "id": "b08f00b0",
   "metadata": {},
   "outputs": [
    {
     "data": {
      "text/html": [
       "<div>\n",
       "<style scoped>\n",
       "    .dataframe tbody tr th:only-of-type {\n",
       "        vertical-align: middle;\n",
       "    }\n",
       "\n",
       "    .dataframe tbody tr th {\n",
       "        vertical-align: top;\n",
       "    }\n",
       "\n",
       "    .dataframe thead th {\n",
       "        text-align: right;\n",
       "    }\n",
       "</style>\n",
       "<table border=\"1\" class=\"dataframe\">\n",
       "  <thead>\n",
       "    <tr style=\"text-align: right;\">\n",
       "      <th></th>\n",
       "      <th>Customer_id</th>\n",
       "      <th>Gender</th>\n",
       "      <th>Age</th>\n",
       "      <th>Driving_Licence_Present</th>\n",
       "      <th>Region_Code</th>\n",
       "      <th>Previously_Insured</th>\n",
       "      <th>Vehicle_Age</th>\n",
       "      <th>Vehicle_Damage</th>\n",
       "    </tr>\n",
       "  </thead>\n",
       "  <tbody>\n",
       "    <tr>\n",
       "      <th>0</th>\n",
       "      <td>1.0</td>\n",
       "      <td>Male</td>\n",
       "      <td>44.0</td>\n",
       "      <td>1.0</td>\n",
       "      <td>28.0</td>\n",
       "      <td>0.0</td>\n",
       "      <td>&gt; 2 Years</td>\n",
       "      <td>Yes</td>\n",
       "    </tr>\n",
       "    <tr>\n",
       "      <th>1</th>\n",
       "      <td>2.0</td>\n",
       "      <td>Male</td>\n",
       "      <td>76.0</td>\n",
       "      <td>1.0</td>\n",
       "      <td>3.0</td>\n",
       "      <td>0.0</td>\n",
       "      <td>1-2 Year</td>\n",
       "      <td>No</td>\n",
       "    </tr>\n",
       "    <tr>\n",
       "      <th>2</th>\n",
       "      <td>3.0</td>\n",
       "      <td>Male</td>\n",
       "      <td>47.0</td>\n",
       "      <td>1.0</td>\n",
       "      <td>28.0</td>\n",
       "      <td>0.0</td>\n",
       "      <td>&gt; 2 Years</td>\n",
       "      <td>Yes</td>\n",
       "    </tr>\n",
       "    <tr>\n",
       "      <th>3</th>\n",
       "      <td>4.0</td>\n",
       "      <td>Male</td>\n",
       "      <td>21.0</td>\n",
       "      <td>1.0</td>\n",
       "      <td>11.0</td>\n",
       "      <td>1.0</td>\n",
       "      <td>&lt; 1 Year</td>\n",
       "      <td>No</td>\n",
       "    </tr>\n",
       "    <tr>\n",
       "      <th>4</th>\n",
       "      <td>5.0</td>\n",
       "      <td>Female</td>\n",
       "      <td>29.0</td>\n",
       "      <td>1.0</td>\n",
       "      <td>41.0</td>\n",
       "      <td>1.0</td>\n",
       "      <td>&lt; 1 Year</td>\n",
       "      <td>No</td>\n",
       "    </tr>\n",
       "    <tr>\n",
       "      <th>...</th>\n",
       "      <td>...</td>\n",
       "      <td>...</td>\n",
       "      <td>...</td>\n",
       "      <td>...</td>\n",
       "      <td>...</td>\n",
       "      <td>...</td>\n",
       "      <td>...</td>\n",
       "      <td>...</td>\n",
       "    </tr>\n",
       "    <tr>\n",
       "      <th>381104</th>\n",
       "      <td>381105.0</td>\n",
       "      <td>Male</td>\n",
       "      <td>74.0</td>\n",
       "      <td>1.0</td>\n",
       "      <td>26.0</td>\n",
       "      <td>1.0</td>\n",
       "      <td>1-2 Year</td>\n",
       "      <td>No</td>\n",
       "    </tr>\n",
       "    <tr>\n",
       "      <th>381105</th>\n",
       "      <td>381106.0</td>\n",
       "      <td>Male</td>\n",
       "      <td>30.0</td>\n",
       "      <td>1.0</td>\n",
       "      <td>37.0</td>\n",
       "      <td>1.0</td>\n",
       "      <td>&lt; 1 Year</td>\n",
       "      <td>No</td>\n",
       "    </tr>\n",
       "    <tr>\n",
       "      <th>381106</th>\n",
       "      <td>381107.0</td>\n",
       "      <td>Male</td>\n",
       "      <td>21.0</td>\n",
       "      <td>1.0</td>\n",
       "      <td>30.0</td>\n",
       "      <td>1.0</td>\n",
       "      <td>&lt; 1 Year</td>\n",
       "      <td>No</td>\n",
       "    </tr>\n",
       "    <tr>\n",
       "      <th>381107</th>\n",
       "      <td>381108.0</td>\n",
       "      <td>Female</td>\n",
       "      <td>68.0</td>\n",
       "      <td>1.0</td>\n",
       "      <td>14.0</td>\n",
       "      <td>0.0</td>\n",
       "      <td>&gt; 2 Years</td>\n",
       "      <td>Yes</td>\n",
       "    </tr>\n",
       "    <tr>\n",
       "      <th>381108</th>\n",
       "      <td>381109.0</td>\n",
       "      <td>Male</td>\n",
       "      <td>46.0</td>\n",
       "      <td>1.0</td>\n",
       "      <td>29.0</td>\n",
       "      <td>0.0</td>\n",
       "      <td>1-2 Year</td>\n",
       "      <td>No</td>\n",
       "    </tr>\n",
       "  </tbody>\n",
       "</table>\n",
       "<p>381109 rows × 8 columns</p>\n",
       "</div>"
      ],
      "text/plain": [
       "        Customer_id  Gender   Age  Driving_Licence_Present  Region_Code  \\\n",
       "0               1.0    Male  44.0                      1.0         28.0   \n",
       "1               2.0    Male  76.0                      1.0          3.0   \n",
       "2               3.0    Male  47.0                      1.0         28.0   \n",
       "3               4.0    Male  21.0                      1.0         11.0   \n",
       "4               5.0  Female  29.0                      1.0         41.0   \n",
       "...             ...     ...   ...                      ...          ...   \n",
       "381104     381105.0    Male  74.0                      1.0         26.0   \n",
       "381105     381106.0    Male  30.0                      1.0         37.0   \n",
       "381106     381107.0    Male  21.0                      1.0         30.0   \n",
       "381107     381108.0  Female  68.0                      1.0         14.0   \n",
       "381108     381109.0    Male  46.0                      1.0         29.0   \n",
       "\n",
       "        Previously_Insured Vehicle_Age Vehicle_Damage  \n",
       "0                      0.0   > 2 Years            Yes  \n",
       "1                      0.0    1-2 Year             No  \n",
       "2                      0.0   > 2 Years            Yes  \n",
       "3                      1.0    < 1 Year             No  \n",
       "4                      1.0    < 1 Year             No  \n",
       "...                    ...         ...            ...  \n",
       "381104                 1.0    1-2 Year             No  \n",
       "381105                 1.0    < 1 Year             No  \n",
       "381106                 1.0    < 1 Year             No  \n",
       "381107                 0.0   > 2 Years            Yes  \n",
       "381108                 0.0    1-2 Year             No  \n",
       "\n",
       "[381109 rows x 8 columns]"
      ]
     },
     "execution_count": 5,
     "metadata": {},
     "output_type": "execute_result"
    }
   ],
   "source": [
    "df1"
   ]
  },
  {
   "cell_type": "code",
   "execution_count": 6,
   "id": "6c8891a0",
   "metadata": {},
   "outputs": [
    {
     "name": "stdout",
     "output_type": "stream",
     "text": [
      "Null Values in Cusmoter_id: 386\n"
     ]
    }
   ],
   "source": [
    "#CHECKING AND CLEANING DATA FROM CUSTOMER_DETAILS.CSV\n",
    "\n",
    "print('Null Values in Cusmoter_id:',df1['Customer_id'].isna().sum())"
   ]
  },
  {
   "cell_type": "code",
   "execution_count": 7,
   "id": "714ce40f",
   "metadata": {},
   "outputs": [],
   "source": [
    "df1['Customer_id']=df1['Customer_id'].isnull().sum()"
   ]
  },
  {
   "cell_type": "code",
   "execution_count": 8,
   "id": "33640789",
   "metadata": {},
   "outputs": [
    {
     "name": "stdout",
     "output_type": "stream",
     "text": [
      "Null Values in Gender: 368\n"
     ]
    }
   ],
   "source": [
    "print('Null Values in Gender:',df1['Gender'].isna().sum())"
   ]
  },
  {
   "cell_type": "code",
   "execution_count": null,
   "id": "42e30435",
   "metadata": {},
   "outputs": [],
   "source": []
  },
  {
   "cell_type": "code",
   "execution_count": 9,
   "id": "d8fc7198",
   "metadata": {},
   "outputs": [
    {
     "name": "stdout",
     "output_type": "stream",
     "text": [
      "Null Values in Age: 368\n"
     ]
    }
   ],
   "source": [
    "print('Null Values in Age:',df1['Age'].isna().sum())"
   ]
  },
  {
   "cell_type": "code",
   "execution_count": 10,
   "id": "c862d4bf",
   "metadata": {},
   "outputs": [
    {
     "name": "stdout",
     "output_type": "stream",
     "text": [
      "Null Values in Driving_Licence_Present: 393\n"
     ]
    }
   ],
   "source": [
    "print('Null Values in Driving_Licence_Present:',df1['Driving_Licence_Present'].isna().sum())"
   ]
  },
  {
   "cell_type": "code",
   "execution_count": 11,
   "id": "353304a7",
   "metadata": {},
   "outputs": [
    {
     "name": "stdout",
     "output_type": "stream",
     "text": [
      "Null Values in Region_Code: 392\n"
     ]
    }
   ],
   "source": [
    "print('Null Values in Region_Code:',df1['Region_Code'].isna().sum())"
   ]
  },
  {
   "cell_type": "code",
   "execution_count": 12,
   "id": "be2c22c4",
   "metadata": {},
   "outputs": [
    {
     "name": "stdout",
     "output_type": "stream",
     "text": [
      "Null Values in Previously_Insured: 381\n"
     ]
    }
   ],
   "source": [
    "print('Null Values in Previously_Insured:',df1['Previously_Insured'].isna().sum())"
   ]
  },
  {
   "cell_type": "code",
   "execution_count": 13,
   "id": "48498b81",
   "metadata": {},
   "outputs": [
    {
     "name": "stdout",
     "output_type": "stream",
     "text": [
      "Null Values in Vehicle_Age: 381\n"
     ]
    }
   ],
   "source": [
    "print('Null Values in Vehicle_Age:',df1['Vehicle_Age'].isna().sum())"
   ]
  },
  {
   "cell_type": "code",
   "execution_count": 14,
   "id": "d3afde2c",
   "metadata": {},
   "outputs": [
    {
     "name": "stdout",
     "output_type": "stream",
     "text": [
      "Null Values in Vehicle_Damage: 407\n"
     ]
    }
   ],
   "source": [
    "print('Null Values in Vehicle_Damage:',df1['Vehicle_Damage'].isna().sum())"
   ]
  },
  {
   "cell_type": "code",
   "execution_count": 15,
   "id": "94b4a790",
   "metadata": {},
   "outputs": [],
   "source": [
    "# DROPING AND FILLING NULL Values\n",
    "df1.dropna(subset=[],inplace=True)"
   ]
  },
  {
   "cell_type": "code",
   "execution_count": 17,
   "id": "b77919de",
   "metadata": {},
   "outputs": [],
   "source": [
    "df1['Gender'].fillna(df1['Gender'].mode()[0],inplace=True)"
   ]
  },
  {
   "cell_type": "code",
   "execution_count": 18,
   "id": "78b615e9",
   "metadata": {},
   "outputs": [
    {
     "data": {
      "text/html": [
       "<div>\n",
       "<style scoped>\n",
       "    .dataframe tbody tr th:only-of-type {\n",
       "        vertical-align: middle;\n",
       "    }\n",
       "\n",
       "    .dataframe tbody tr th {\n",
       "        vertical-align: top;\n",
       "    }\n",
       "\n",
       "    .dataframe thead th {\n",
       "        text-align: right;\n",
       "    }\n",
       "</style>\n",
       "<table border=\"1\" class=\"dataframe\">\n",
       "  <thead>\n",
       "    <tr style=\"text-align: right;\">\n",
       "      <th></th>\n",
       "      <th>Customer_id</th>\n",
       "      <th>Gender</th>\n",
       "      <th>Age</th>\n",
       "      <th>Driving_Licence_Present</th>\n",
       "      <th>Region_Code</th>\n",
       "      <th>Previously_Insured</th>\n",
       "      <th>Vehicle_Age</th>\n",
       "      <th>Vehicle_Damage</th>\n",
       "    </tr>\n",
       "  </thead>\n",
       "  <tbody>\n",
       "    <tr>\n",
       "      <th>0</th>\n",
       "      <td>386</td>\n",
       "      <td>Male</td>\n",
       "      <td>44.0</td>\n",
       "      <td>1.0</td>\n",
       "      <td>28.0</td>\n",
       "      <td>0.0</td>\n",
       "      <td>&gt; 2 Years</td>\n",
       "      <td>Yes</td>\n",
       "    </tr>\n",
       "    <tr>\n",
       "      <th>1</th>\n",
       "      <td>386</td>\n",
       "      <td>Male</td>\n",
       "      <td>76.0</td>\n",
       "      <td>1.0</td>\n",
       "      <td>3.0</td>\n",
       "      <td>0.0</td>\n",
       "      <td>1-2 Year</td>\n",
       "      <td>No</td>\n",
       "    </tr>\n",
       "    <tr>\n",
       "      <th>2</th>\n",
       "      <td>386</td>\n",
       "      <td>Male</td>\n",
       "      <td>47.0</td>\n",
       "      <td>1.0</td>\n",
       "      <td>28.0</td>\n",
       "      <td>0.0</td>\n",
       "      <td>&gt; 2 Years</td>\n",
       "      <td>Yes</td>\n",
       "    </tr>\n",
       "    <tr>\n",
       "      <th>3</th>\n",
       "      <td>386</td>\n",
       "      <td>Male</td>\n",
       "      <td>21.0</td>\n",
       "      <td>1.0</td>\n",
       "      <td>11.0</td>\n",
       "      <td>1.0</td>\n",
       "      <td>&lt; 1 Year</td>\n",
       "      <td>No</td>\n",
       "    </tr>\n",
       "    <tr>\n",
       "      <th>4</th>\n",
       "      <td>386</td>\n",
       "      <td>Female</td>\n",
       "      <td>29.0</td>\n",
       "      <td>1.0</td>\n",
       "      <td>41.0</td>\n",
       "      <td>1.0</td>\n",
       "      <td>&lt; 1 Year</td>\n",
       "      <td>No</td>\n",
       "    </tr>\n",
       "    <tr>\n",
       "      <th>...</th>\n",
       "      <td>...</td>\n",
       "      <td>...</td>\n",
       "      <td>...</td>\n",
       "      <td>...</td>\n",
       "      <td>...</td>\n",
       "      <td>...</td>\n",
       "      <td>...</td>\n",
       "      <td>...</td>\n",
       "    </tr>\n",
       "    <tr>\n",
       "      <th>381104</th>\n",
       "      <td>386</td>\n",
       "      <td>Male</td>\n",
       "      <td>74.0</td>\n",
       "      <td>1.0</td>\n",
       "      <td>26.0</td>\n",
       "      <td>1.0</td>\n",
       "      <td>1-2 Year</td>\n",
       "      <td>No</td>\n",
       "    </tr>\n",
       "    <tr>\n",
       "      <th>381105</th>\n",
       "      <td>386</td>\n",
       "      <td>Male</td>\n",
       "      <td>30.0</td>\n",
       "      <td>1.0</td>\n",
       "      <td>37.0</td>\n",
       "      <td>1.0</td>\n",
       "      <td>&lt; 1 Year</td>\n",
       "      <td>No</td>\n",
       "    </tr>\n",
       "    <tr>\n",
       "      <th>381106</th>\n",
       "      <td>386</td>\n",
       "      <td>Male</td>\n",
       "      <td>21.0</td>\n",
       "      <td>1.0</td>\n",
       "      <td>30.0</td>\n",
       "      <td>1.0</td>\n",
       "      <td>&lt; 1 Year</td>\n",
       "      <td>No</td>\n",
       "    </tr>\n",
       "    <tr>\n",
       "      <th>381107</th>\n",
       "      <td>386</td>\n",
       "      <td>Female</td>\n",
       "      <td>68.0</td>\n",
       "      <td>1.0</td>\n",
       "      <td>14.0</td>\n",
       "      <td>0.0</td>\n",
       "      <td>&gt; 2 Years</td>\n",
       "      <td>Yes</td>\n",
       "    </tr>\n",
       "    <tr>\n",
       "      <th>381108</th>\n",
       "      <td>386</td>\n",
       "      <td>Male</td>\n",
       "      <td>46.0</td>\n",
       "      <td>1.0</td>\n",
       "      <td>29.0</td>\n",
       "      <td>0.0</td>\n",
       "      <td>1-2 Year</td>\n",
       "      <td>No</td>\n",
       "    </tr>\n",
       "  </tbody>\n",
       "</table>\n",
       "<p>381109 rows × 8 columns</p>\n",
       "</div>"
      ],
      "text/plain": [
       "        Customer_id  Gender   Age  Driving_Licence_Present  Region_Code  \\\n",
       "0               386    Male  44.0                      1.0         28.0   \n",
       "1               386    Male  76.0                      1.0          3.0   \n",
       "2               386    Male  47.0                      1.0         28.0   \n",
       "3               386    Male  21.0                      1.0         11.0   \n",
       "4               386  Female  29.0                      1.0         41.0   \n",
       "...             ...     ...   ...                      ...          ...   \n",
       "381104          386    Male  74.0                      1.0         26.0   \n",
       "381105          386    Male  30.0                      1.0         37.0   \n",
       "381106          386    Male  21.0                      1.0         30.0   \n",
       "381107          386  Female  68.0                      1.0         14.0   \n",
       "381108          386    Male  46.0                      1.0         29.0   \n",
       "\n",
       "        Previously_Insured Vehicle_Age Vehicle_Damage  \n",
       "0                      0.0   > 2 Years            Yes  \n",
       "1                      0.0    1-2 Year             No  \n",
       "2                      0.0   > 2 Years            Yes  \n",
       "3                      1.0    < 1 Year             No  \n",
       "4                      1.0    < 1 Year             No  \n",
       "...                    ...         ...            ...  \n",
       "381104                 1.0    1-2 Year             No  \n",
       "381105                 1.0    < 1 Year             No  \n",
       "381106                 1.0    < 1 Year             No  \n",
       "381107                 0.0   > 2 Years            Yes  \n",
       "381108                 0.0    1-2 Year             No  \n",
       "\n",
       "[381109 rows x 8 columns]"
      ]
     },
     "execution_count": 18,
     "metadata": {},
     "output_type": "execute_result"
    }
   ],
   "source": [
    "df1"
   ]
  },
  {
   "cell_type": "code",
   "execution_count": 19,
   "id": "9766ef9c",
   "metadata": {},
   "outputs": [],
   "source": [
    "df1['Age'].fillna(df1['Age'].mean(),inplace=True)"
   ]
  },
  {
   "cell_type": "code",
   "execution_count": 20,
   "id": "f9fbf8a6",
   "metadata": {},
   "outputs": [
    {
     "name": "stdout",
     "output_type": "stream",
     "text": [
      "Null values in Age after droping Nall Values: 0\n"
     ]
    }
   ],
   "source": [
    "print('Null values in Age after droping Nall Values:',df1['Age'].isna().sum())"
   ]
  },
  {
   "cell_type": "code",
   "execution_count": 21,
   "id": "cdff7e0d",
   "metadata": {},
   "outputs": [],
   "source": [
    "df1['Driving_Licence_Present'].fillna(df1['Driving_Licence_Present'].mode()[0],inplace=True)"
   ]
  },
  {
   "cell_type": "code",
   "execution_count": 22,
   "id": "6ad9ac65",
   "metadata": {},
   "outputs": [
    {
     "name": "stdout",
     "output_type": "stream",
     "text": [
      "Null values in Driving_Licence_Present: 0\n"
     ]
    }
   ],
   "source": [
    "print('Null values in Driving_Licence_Present:',df1['Driving_Licence_Present'].isna().sum())"
   ]
  },
  {
   "cell_type": "code",
   "execution_count": 23,
   "id": "00d2cef7",
   "metadata": {},
   "outputs": [],
   "source": [
    "df1['Region_Code'].fillna(df1['Region_Code'].mode()[0],inplace=True)\n"
   ]
  },
  {
   "cell_type": "code",
   "execution_count": 24,
   "id": "bb0962be",
   "metadata": {},
   "outputs": [
    {
     "name": "stdout",
     "output_type": "stream",
     "text": [
      "Null values in Region_code after droping Null values: 0\n"
     ]
    }
   ],
   "source": [
    "print('Null values in Region_code after droping Null values:',df1['Region_Code'].isna().sum())"
   ]
  },
  {
   "cell_type": "code",
   "execution_count": 25,
   "id": "e32c57db",
   "metadata": {},
   "outputs": [
    {
     "name": "stdout",
     "output_type": "stream",
     "text": [
      "Null Values in Previously_Insured after droping Null values: 0\n"
     ]
    }
   ],
   "source": [
    "\n",
    "df1['Previously_Insured'].fillna(df1['Previously_Insured'].mode()[0],inplace=True)\n",
    "print('Null Values in Previously_Insured after droping Null values:',df1['Previously_Insured'].isna().sum())"
   ]
  },
  {
   "cell_type": "code",
   "execution_count": 26,
   "id": "542f66c5",
   "metadata": {},
   "outputs": [
    {
     "name": "stdout",
     "output_type": "stream",
     "text": [
      "Null Values in Vechicle_Age after droping Null values: 0\n"
     ]
    }
   ],
   "source": [
    "df1['Vehicle_Age'].fillna(df1['Vehicle_Age'].mode()[0],inplace=True)\n",
    "print('Null Values in Vechicle_Age after droping Null values:',df1['Vehicle_Age'].isna().sum())\n"
   ]
  },
  {
   "cell_type": "code",
   "execution_count": 27,
   "id": "c7d416c4",
   "metadata": {},
   "outputs": [
    {
     "name": "stdout",
     "output_type": "stream",
     "text": [
      "Null Values in Vechicle_Damage after droping Null values: 0\n"
     ]
    }
   ],
   "source": [
    "df1['Vehicle_Damage'].fillna(df1['Vehicle_Damage'].mode()[0],inplace=True)\n",
    "print('Null Values in Vechicle_Damage after droping Null values:',df1['Vehicle_Damage'].isna().sum())"
   ]
  },
  {
   "cell_type": "code",
   "execution_count": 28,
   "id": "575eda2d",
   "metadata": {},
   "outputs": [
    {
     "data": {
      "text/html": [
       "<div>\n",
       "<style scoped>\n",
       "    .dataframe tbody tr th:only-of-type {\n",
       "        vertical-align: middle;\n",
       "    }\n",
       "\n",
       "    .dataframe tbody tr th {\n",
       "        vertical-align: top;\n",
       "    }\n",
       "\n",
       "    .dataframe thead th {\n",
       "        text-align: right;\n",
       "    }\n",
       "</style>\n",
       "<table border=\"1\" class=\"dataframe\">\n",
       "  <thead>\n",
       "    <tr style=\"text-align: right;\">\n",
       "      <th></th>\n",
       "      <th>Customer_id</th>\n",
       "      <th>Age</th>\n",
       "      <th>Driving_Licence_Present</th>\n",
       "      <th>Region_Code</th>\n",
       "      <th>Previously_Insured</th>\n",
       "    </tr>\n",
       "  </thead>\n",
       "  <tbody>\n",
       "    <tr>\n",
       "      <th>count</th>\n",
       "      <td>381109.0</td>\n",
       "      <td>381109.000000</td>\n",
       "      <td>381109.000000</td>\n",
       "      <td>381109.000000</td>\n",
       "      <td>381109.000000</td>\n",
       "    </tr>\n",
       "    <tr>\n",
       "      <th>mean</th>\n",
       "      <td>386.0</td>\n",
       "      <td>38.822827</td>\n",
       "      <td>0.997869</td>\n",
       "      <td>26.390232</td>\n",
       "      <td>0.457788</td>\n",
       "    </tr>\n",
       "    <tr>\n",
       "      <th>std</th>\n",
       "      <td>0.0</td>\n",
       "      <td>15.504629</td>\n",
       "      <td>0.046110</td>\n",
       "      <td>13.223656</td>\n",
       "      <td>0.498216</td>\n",
       "    </tr>\n",
       "    <tr>\n",
       "      <th>min</th>\n",
       "      <td>386.0</td>\n",
       "      <td>20.000000</td>\n",
       "      <td>0.000000</td>\n",
       "      <td>0.000000</td>\n",
       "      <td>0.000000</td>\n",
       "    </tr>\n",
       "    <tr>\n",
       "      <th>25%</th>\n",
       "      <td>386.0</td>\n",
       "      <td>25.000000</td>\n",
       "      <td>1.000000</td>\n",
       "      <td>15.000000</td>\n",
       "      <td>0.000000</td>\n",
       "    </tr>\n",
       "    <tr>\n",
       "      <th>50%</th>\n",
       "      <td>386.0</td>\n",
       "      <td>36.000000</td>\n",
       "      <td>1.000000</td>\n",
       "      <td>28.000000</td>\n",
       "      <td>0.000000</td>\n",
       "    </tr>\n",
       "    <tr>\n",
       "      <th>75%</th>\n",
       "      <td>386.0</td>\n",
       "      <td>49.000000</td>\n",
       "      <td>1.000000</td>\n",
       "      <td>35.000000</td>\n",
       "      <td>1.000000</td>\n",
       "    </tr>\n",
       "    <tr>\n",
       "      <th>max</th>\n",
       "      <td>386.0</td>\n",
       "      <td>85.000000</td>\n",
       "      <td>1.000000</td>\n",
       "      <td>52.000000</td>\n",
       "      <td>1.000000</td>\n",
       "    </tr>\n",
       "  </tbody>\n",
       "</table>\n",
       "</div>"
      ],
      "text/plain": [
       "       Customer_id            Age  Driving_Licence_Present    Region_Code  \\\n",
       "count     381109.0  381109.000000            381109.000000  381109.000000   \n",
       "mean         386.0      38.822827                 0.997869      26.390232   \n",
       "std            0.0      15.504629                 0.046110      13.223656   \n",
       "min          386.0      20.000000                 0.000000       0.000000   \n",
       "25%          386.0      25.000000                 1.000000      15.000000   \n",
       "50%          386.0      36.000000                 1.000000      28.000000   \n",
       "75%          386.0      49.000000                 1.000000      35.000000   \n",
       "max          386.0      85.000000                 1.000000      52.000000   \n",
       "\n",
       "       Previously_Insured  \n",
       "count       381109.000000  \n",
       "mean             0.457788  \n",
       "std              0.498216  \n",
       "min              0.000000  \n",
       "25%              0.000000  \n",
       "50%              0.000000  \n",
       "75%              1.000000  \n",
       "max              1.000000  "
      ]
     },
     "execution_count": 28,
     "metadata": {},
     "output_type": "execute_result"
    }
   ],
   "source": [
    "df1.describe()"
   ]
  },
  {
   "cell_type": "code",
   "execution_count": 29,
   "id": "39bf014e",
   "metadata": {},
   "outputs": [
    {
     "name": "stdout",
     "output_type": "stream",
     "text": [
      "outliners in Age: 0\n",
      "outliners in Age: 0\n"
     ]
    }
   ],
   "source": [
    "#Quntliners\n",
    "\n",
    "Q1 = df1.describe().loc[\"25%\",\"Age\"]\n",
    "Q3 = df1.describe().loc[\"75%\",\"Age\"]\n",
    "\n",
    "IQR = Q3 - Q1\n",
    "\n",
    "print('outliners in Age:',df1.loc[df1[\"Age\"]<(Q1 - IQR*1.5),\"Age\"].count())\n",
    "print('outliners in Age:',df1.loc[df1[\"Age\"]>(Q3 + IQR*1.5),\"Age\"].count())"
   ]
  },
  {
   "cell_type": "code",
   "execution_count": 30,
   "id": "b326fdf0",
   "metadata": {},
   "outputs": [
    {
     "name": "stdout",
     "output_type": "stream",
     "text": [
      "outliners in Region_Code: 0\n",
      "outliners in Region_Code: 0\n"
     ]
    }
   ],
   "source": [
    "Q1 = df1.describe().loc[\"25%\",\"Region_Code\"]\n",
    "Q3 = df1.describe().loc[\"75%\",\"Region_Code\"]\n",
    "\n",
    "IQR = Q3 - Q1\n",
    "\n",
    "print('outliners in Region_Code:',df1.loc[df1[\"Region_Code\"]<(Q1 - IQR*1.5),\"Age\"].count())\n",
    "print('outliners in Region_Code:',df1.loc[df1[\"Region_Code\"]>(Q3 + IQR*1.5),\"Age\"].count())"
   ]
  },
  {
   "cell_type": "code",
   "execution_count": 31,
   "id": "fac9e1be",
   "metadata": {},
   "outputs": [
    {
     "name": "stdout",
     "output_type": "stream",
     "text": [
      "outliners in Region_Code: 0\n",
      "outliners in Region_Code: 0\n"
     ]
    }
   ],
   "source": [
    "Q1 = df1.describe().loc[\"25%\",\"Region_Code\"]\n",
    "Q3 = df1.describe().loc[\"75%\",\"Region_Code\"]\n",
    "\n",
    "IQR = Q3 - Q1\n",
    "\n",
    "print('outliners in Region_Code:',df1.loc[df1[\"Region_Code\"]<(Q1 - IQR*1.5),\"Region_Code\"].count())\n",
    "print('outliners in Region_Code:',df1.loc[df1[\"Region_Code\"]>(Q3 + IQR*1.5),\"Region_Code\"].count())"
   ]
  },
  {
   "cell_type": "code",
   "execution_count": 32,
   "id": "b461c1c6",
   "metadata": {},
   "outputs": [],
   "source": [
    "#REMOVE SPACES\n",
    "\n",
    "df1[\"Gender\"]=df1[\"Gender\"].str.strip()\n",
    "df1[\"Vehicle_Age\"]=df1[\"Vehicle_Age\"].str.strip()\n",
    "df1[\"Vehicle_Damage\"]=df1[\"Vehicle_Damage\"].str.strip()"
   ]
  },
  {
   "cell_type": "code",
   "execution_count": 33,
   "id": "d92d1f4e",
   "metadata": {},
   "outputs": [
    {
     "data": {
      "text/html": [
       "<div>\n",
       "<style scoped>\n",
       "    .dataframe tbody tr th:only-of-type {\n",
       "        vertical-align: middle;\n",
       "    }\n",
       "\n",
       "    .dataframe tbody tr th {\n",
       "        vertical-align: top;\n",
       "    }\n",
       "\n",
       "    .dataframe thead th {\n",
       "        text-align: right;\n",
       "    }\n",
       "</style>\n",
       "<table border=\"1\" class=\"dataframe\">\n",
       "  <thead>\n",
       "    <tr style=\"text-align: right;\">\n",
       "      <th></th>\n",
       "      <th>Customer_id</th>\n",
       "      <th>Gender</th>\n",
       "      <th>Age</th>\n",
       "      <th>Driving_Licence_Present</th>\n",
       "      <th>Region_Code</th>\n",
       "      <th>Previously_Insured</th>\n",
       "      <th>Vehicle_Age</th>\n",
       "      <th>Vehicle_Damage</th>\n",
       "    </tr>\n",
       "  </thead>\n",
       "  <tbody>\n",
       "    <tr>\n",
       "      <th>0</th>\n",
       "      <td>386</td>\n",
       "      <td>Male</td>\n",
       "      <td>44.0</td>\n",
       "      <td>1.0</td>\n",
       "      <td>28.0</td>\n",
       "      <td>0.0</td>\n",
       "      <td>&gt; 2 Years</td>\n",
       "      <td>Yes</td>\n",
       "    </tr>\n",
       "    <tr>\n",
       "      <th>1</th>\n",
       "      <td>386</td>\n",
       "      <td>Male</td>\n",
       "      <td>76.0</td>\n",
       "      <td>1.0</td>\n",
       "      <td>3.0</td>\n",
       "      <td>0.0</td>\n",
       "      <td>1-2 Year</td>\n",
       "      <td>No</td>\n",
       "    </tr>\n",
       "    <tr>\n",
       "      <th>2</th>\n",
       "      <td>386</td>\n",
       "      <td>Male</td>\n",
       "      <td>47.0</td>\n",
       "      <td>1.0</td>\n",
       "      <td>28.0</td>\n",
       "      <td>0.0</td>\n",
       "      <td>&gt; 2 Years</td>\n",
       "      <td>Yes</td>\n",
       "    </tr>\n",
       "    <tr>\n",
       "      <th>3</th>\n",
       "      <td>386</td>\n",
       "      <td>Male</td>\n",
       "      <td>21.0</td>\n",
       "      <td>1.0</td>\n",
       "      <td>11.0</td>\n",
       "      <td>1.0</td>\n",
       "      <td>&lt; 1 Year</td>\n",
       "      <td>No</td>\n",
       "    </tr>\n",
       "    <tr>\n",
       "      <th>4</th>\n",
       "      <td>386</td>\n",
       "      <td>Female</td>\n",
       "      <td>29.0</td>\n",
       "      <td>1.0</td>\n",
       "      <td>41.0</td>\n",
       "      <td>1.0</td>\n",
       "      <td>&lt; 1 Year</td>\n",
       "      <td>No</td>\n",
       "    </tr>\n",
       "    <tr>\n",
       "      <th>...</th>\n",
       "      <td>...</td>\n",
       "      <td>...</td>\n",
       "      <td>...</td>\n",
       "      <td>...</td>\n",
       "      <td>...</td>\n",
       "      <td>...</td>\n",
       "      <td>...</td>\n",
       "      <td>...</td>\n",
       "    </tr>\n",
       "    <tr>\n",
       "      <th>381104</th>\n",
       "      <td>386</td>\n",
       "      <td>Male</td>\n",
       "      <td>74.0</td>\n",
       "      <td>1.0</td>\n",
       "      <td>26.0</td>\n",
       "      <td>1.0</td>\n",
       "      <td>1-2 Year</td>\n",
       "      <td>No</td>\n",
       "    </tr>\n",
       "    <tr>\n",
       "      <th>381105</th>\n",
       "      <td>386</td>\n",
       "      <td>Male</td>\n",
       "      <td>30.0</td>\n",
       "      <td>1.0</td>\n",
       "      <td>37.0</td>\n",
       "      <td>1.0</td>\n",
       "      <td>&lt; 1 Year</td>\n",
       "      <td>No</td>\n",
       "    </tr>\n",
       "    <tr>\n",
       "      <th>381106</th>\n",
       "      <td>386</td>\n",
       "      <td>Male</td>\n",
       "      <td>21.0</td>\n",
       "      <td>1.0</td>\n",
       "      <td>30.0</td>\n",
       "      <td>1.0</td>\n",
       "      <td>&lt; 1 Year</td>\n",
       "      <td>No</td>\n",
       "    </tr>\n",
       "    <tr>\n",
       "      <th>381107</th>\n",
       "      <td>386</td>\n",
       "      <td>Female</td>\n",
       "      <td>68.0</td>\n",
       "      <td>1.0</td>\n",
       "      <td>14.0</td>\n",
       "      <td>0.0</td>\n",
       "      <td>&gt; 2 Years</td>\n",
       "      <td>Yes</td>\n",
       "    </tr>\n",
       "    <tr>\n",
       "      <th>381108</th>\n",
       "      <td>386</td>\n",
       "      <td>Male</td>\n",
       "      <td>46.0</td>\n",
       "      <td>1.0</td>\n",
       "      <td>29.0</td>\n",
       "      <td>0.0</td>\n",
       "      <td>1-2 Year</td>\n",
       "      <td>No</td>\n",
       "    </tr>\n",
       "  </tbody>\n",
       "</table>\n",
       "<p>381109 rows × 8 columns</p>\n",
       "</div>"
      ],
      "text/plain": [
       "        Customer_id  Gender   Age  Driving_Licence_Present  Region_Code  \\\n",
       "0               386    Male  44.0                      1.0         28.0   \n",
       "1               386    Male  76.0                      1.0          3.0   \n",
       "2               386    Male  47.0                      1.0         28.0   \n",
       "3               386    Male  21.0                      1.0         11.0   \n",
       "4               386  Female  29.0                      1.0         41.0   \n",
       "...             ...     ...   ...                      ...          ...   \n",
       "381104          386    Male  74.0                      1.0         26.0   \n",
       "381105          386    Male  30.0                      1.0         37.0   \n",
       "381106          386    Male  21.0                      1.0         30.0   \n",
       "381107          386  Female  68.0                      1.0         14.0   \n",
       "381108          386    Male  46.0                      1.0         29.0   \n",
       "\n",
       "        Previously_Insured Vehicle_Age Vehicle_Damage  \n",
       "0                      0.0   > 2 Years            Yes  \n",
       "1                      0.0    1-2 Year             No  \n",
       "2                      0.0   > 2 Years            Yes  \n",
       "3                      1.0    < 1 Year             No  \n",
       "4                      1.0    < 1 Year             No  \n",
       "...                    ...         ...            ...  \n",
       "381104                 1.0    1-2 Year             No  \n",
       "381105                 1.0    < 1 Year             No  \n",
       "381106                 1.0    < 1 Year             No  \n",
       "381107                 0.0   > 2 Years            Yes  \n",
       "381108                 0.0    1-2 Year             No  \n",
       "\n",
       "[381109 rows x 8 columns]"
      ]
     },
     "execution_count": 33,
     "metadata": {},
     "output_type": "execute_result"
    }
   ],
   "source": [
    "df1"
   ]
  },
  {
   "cell_type": "code",
   "execution_count": 34,
   "id": "b7561d37",
   "metadata": {},
   "outputs": [],
   "source": [
    "#case correction\n",
    "\n",
    "df1[\"Gender\"]=df1[\"Gender\"].str.lower()\n",
    "df1[\"Vehicle_Age\"]=df1[\"Vehicle_Age\"].str.lower()\n",
    "df1[\"Vehicle_damage\"]=df1[\"Vehicle_Damage\"].str.lower()\n"
   ]
  },
  {
   "cell_type": "code",
   "execution_count": 35,
   "id": "3669bee5",
   "metadata": {},
   "outputs": [],
   "source": [
    "#convert nominal into dummies\n",
    "\n",
    "dummies_Gender=pd.get_dummies(df1[\"Vehicle_Age\"])\n",
    "dummies_Vehicle_Agg=pd.get_dummies(df1[\"Vehicle_Age\"])\n",
    "dummies_Vehicle_Damage=pd.get_dummies(df1[\"Vehicle_Damage\"])\n",
    "dummies_dlp=pd.get_dummies(df1[\"Driving_Licence_Present\"])\n",
    "dummies_Pi=pd.get_dummies(df1[\"Previously_Insured\"])\n"
   ]
  },
  {
   "cell_type": "code",
   "execution_count": 36,
   "id": "b46b34fe",
   "metadata": {},
   "outputs": [
    {
     "name": "stdout",
     "output_type": "stream",
     "text": [
      "355784\n"
     ]
    }
   ],
   "source": [
    "# Drop Duplicates\n",
    "\n",
    "print(df1.duplicated().sum())"
   ]
  },
  {
   "cell_type": "code",
   "execution_count": 37,
   "id": "1102b9ca",
   "metadata": {},
   "outputs": [
    {
     "data": {
      "text/html": [
       "<div>\n",
       "<style scoped>\n",
       "    .dataframe tbody tr th:only-of-type {\n",
       "        vertical-align: middle;\n",
       "    }\n",
       "\n",
       "    .dataframe tbody tr th {\n",
       "        vertical-align: top;\n",
       "    }\n",
       "\n",
       "    .dataframe thead th {\n",
       "        text-align: right;\n",
       "    }\n",
       "</style>\n",
       "<table border=\"1\" class=\"dataframe\">\n",
       "  <thead>\n",
       "    <tr style=\"text-align: right;\">\n",
       "      <th></th>\n",
       "      <th>0</th>\n",
       "      <th>1</th>\n",
       "      <th>2</th>\n",
       "      <th>3</th>\n",
       "      <th>4</th>\n",
       "    </tr>\n",
       "  </thead>\n",
       "  <tbody>\n",
       "    <tr>\n",
       "      <th>0</th>\n",
       "      <td>1.0</td>\n",
       "      <td>40454.0</td>\n",
       "      <td>26.0</td>\n",
       "      <td>217.0</td>\n",
       "      <td>1.0</td>\n",
       "    </tr>\n",
       "    <tr>\n",
       "      <th>1</th>\n",
       "      <td>2.0</td>\n",
       "      <td>33536.0</td>\n",
       "      <td>26.0</td>\n",
       "      <td>183.0</td>\n",
       "      <td>0.0</td>\n",
       "    </tr>\n",
       "    <tr>\n",
       "      <th>2</th>\n",
       "      <td>3.0</td>\n",
       "      <td>38294.0</td>\n",
       "      <td>26.0</td>\n",
       "      <td>27.0</td>\n",
       "      <td>1.0</td>\n",
       "    </tr>\n",
       "    <tr>\n",
       "      <th>3</th>\n",
       "      <td>4.0</td>\n",
       "      <td>28619.0</td>\n",
       "      <td>152.0</td>\n",
       "      <td>203.0</td>\n",
       "      <td>0.0</td>\n",
       "    </tr>\n",
       "    <tr>\n",
       "      <th>4</th>\n",
       "      <td>5.0</td>\n",
       "      <td>27496.0</td>\n",
       "      <td>152.0</td>\n",
       "      <td>39.0</td>\n",
       "      <td>0.0</td>\n",
       "    </tr>\n",
       "    <tr>\n",
       "      <th>...</th>\n",
       "      <td>...</td>\n",
       "      <td>...</td>\n",
       "      <td>...</td>\n",
       "      <td>...</td>\n",
       "      <td>...</td>\n",
       "    </tr>\n",
       "    <tr>\n",
       "      <th>381104</th>\n",
       "      <td>381105.0</td>\n",
       "      <td>30170.0</td>\n",
       "      <td>26.0</td>\n",
       "      <td>88.0</td>\n",
       "      <td>0.0</td>\n",
       "    </tr>\n",
       "    <tr>\n",
       "      <th>381105</th>\n",
       "      <td>381106.0</td>\n",
       "      <td>40016.0</td>\n",
       "      <td>152.0</td>\n",
       "      <td>131.0</td>\n",
       "      <td>0.0</td>\n",
       "    </tr>\n",
       "    <tr>\n",
       "      <th>381106</th>\n",
       "      <td>381107.0</td>\n",
       "      <td>35118.0</td>\n",
       "      <td>160.0</td>\n",
       "      <td>161.0</td>\n",
       "      <td>0.0</td>\n",
       "    </tr>\n",
       "    <tr>\n",
       "      <th>381107</th>\n",
       "      <td>381108.0</td>\n",
       "      <td>44617.0</td>\n",
       "      <td>124.0</td>\n",
       "      <td>74.0</td>\n",
       "      <td>0.0</td>\n",
       "    </tr>\n",
       "    <tr>\n",
       "      <th>381108</th>\n",
       "      <td>381109.0</td>\n",
       "      <td>41777.0</td>\n",
       "      <td>26.0</td>\n",
       "      <td>237.0</td>\n",
       "      <td>0.0</td>\n",
       "    </tr>\n",
       "  </tbody>\n",
       "</table>\n",
       "<p>381109 rows × 5 columns</p>\n",
       "</div>"
      ],
      "text/plain": [
       "               0        1      2      3    4\n",
       "0            1.0  40454.0   26.0  217.0  1.0\n",
       "1            2.0  33536.0   26.0  183.0  0.0\n",
       "2            3.0  38294.0   26.0   27.0  1.0\n",
       "3            4.0  28619.0  152.0  203.0  0.0\n",
       "4            5.0  27496.0  152.0   39.0  0.0\n",
       "...          ...      ...    ...    ...  ...\n",
       "381104  381105.0  30170.0   26.0   88.0  0.0\n",
       "381105  381106.0  40016.0  152.0  131.0  0.0\n",
       "381106  381107.0  35118.0  160.0  161.0  0.0\n",
       "381107  381108.0  44617.0  124.0   74.0  0.0\n",
       "381108  381109.0  41777.0   26.0  237.0  0.0\n",
       "\n",
       "[381109 rows x 5 columns]"
      ]
     },
     "execution_count": 37,
     "metadata": {},
     "output_type": "execute_result"
    }
   ],
   "source": [
    "df2 = pd.read_csv(\"customer_policy_details.csv\")\n",
    "df2"
   ]
  },
  {
   "cell_type": "code",
   "execution_count": 38,
   "id": "cf759f47",
   "metadata": {},
   "outputs": [],
   "source": [
    "df2.columns=['Customer_id','Annual_Premium(Rs)','Sales_Channel_Code','Vintage','Response']"
   ]
  },
  {
   "cell_type": "code",
   "execution_count": 39,
   "id": "62620791",
   "metadata": {},
   "outputs": [
    {
     "data": {
      "text/html": [
       "<div>\n",
       "<style scoped>\n",
       "    .dataframe tbody tr th:only-of-type {\n",
       "        vertical-align: middle;\n",
       "    }\n",
       "\n",
       "    .dataframe tbody tr th {\n",
       "        vertical-align: top;\n",
       "    }\n",
       "\n",
       "    .dataframe thead th {\n",
       "        text-align: right;\n",
       "    }\n",
       "</style>\n",
       "<table border=\"1\" class=\"dataframe\">\n",
       "  <thead>\n",
       "    <tr style=\"text-align: right;\">\n",
       "      <th></th>\n",
       "      <th>Customer_id</th>\n",
       "      <th>Annual_Premium(Rs)</th>\n",
       "      <th>Sales_Channel_Code</th>\n",
       "      <th>Vintage</th>\n",
       "      <th>Response</th>\n",
       "    </tr>\n",
       "  </thead>\n",
       "  <tbody>\n",
       "    <tr>\n",
       "      <th>0</th>\n",
       "      <td>1.0</td>\n",
       "      <td>40454.0</td>\n",
       "      <td>26.0</td>\n",
       "      <td>217.0</td>\n",
       "      <td>1.0</td>\n",
       "    </tr>\n",
       "    <tr>\n",
       "      <th>1</th>\n",
       "      <td>2.0</td>\n",
       "      <td>33536.0</td>\n",
       "      <td>26.0</td>\n",
       "      <td>183.0</td>\n",
       "      <td>0.0</td>\n",
       "    </tr>\n",
       "    <tr>\n",
       "      <th>2</th>\n",
       "      <td>3.0</td>\n",
       "      <td>38294.0</td>\n",
       "      <td>26.0</td>\n",
       "      <td>27.0</td>\n",
       "      <td>1.0</td>\n",
       "    </tr>\n",
       "    <tr>\n",
       "      <th>3</th>\n",
       "      <td>4.0</td>\n",
       "      <td>28619.0</td>\n",
       "      <td>152.0</td>\n",
       "      <td>203.0</td>\n",
       "      <td>0.0</td>\n",
       "    </tr>\n",
       "    <tr>\n",
       "      <th>4</th>\n",
       "      <td>5.0</td>\n",
       "      <td>27496.0</td>\n",
       "      <td>152.0</td>\n",
       "      <td>39.0</td>\n",
       "      <td>0.0</td>\n",
       "    </tr>\n",
       "    <tr>\n",
       "      <th>...</th>\n",
       "      <td>...</td>\n",
       "      <td>...</td>\n",
       "      <td>...</td>\n",
       "      <td>...</td>\n",
       "      <td>...</td>\n",
       "    </tr>\n",
       "    <tr>\n",
       "      <th>381104</th>\n",
       "      <td>381105.0</td>\n",
       "      <td>30170.0</td>\n",
       "      <td>26.0</td>\n",
       "      <td>88.0</td>\n",
       "      <td>0.0</td>\n",
       "    </tr>\n",
       "    <tr>\n",
       "      <th>381105</th>\n",
       "      <td>381106.0</td>\n",
       "      <td>40016.0</td>\n",
       "      <td>152.0</td>\n",
       "      <td>131.0</td>\n",
       "      <td>0.0</td>\n",
       "    </tr>\n",
       "    <tr>\n",
       "      <th>381106</th>\n",
       "      <td>381107.0</td>\n",
       "      <td>35118.0</td>\n",
       "      <td>160.0</td>\n",
       "      <td>161.0</td>\n",
       "      <td>0.0</td>\n",
       "    </tr>\n",
       "    <tr>\n",
       "      <th>381107</th>\n",
       "      <td>381108.0</td>\n",
       "      <td>44617.0</td>\n",
       "      <td>124.0</td>\n",
       "      <td>74.0</td>\n",
       "      <td>0.0</td>\n",
       "    </tr>\n",
       "    <tr>\n",
       "      <th>381108</th>\n",
       "      <td>381109.0</td>\n",
       "      <td>41777.0</td>\n",
       "      <td>26.0</td>\n",
       "      <td>237.0</td>\n",
       "      <td>0.0</td>\n",
       "    </tr>\n",
       "  </tbody>\n",
       "</table>\n",
       "<p>381109 rows × 5 columns</p>\n",
       "</div>"
      ],
      "text/plain": [
       "        Customer_id  Annual_Premium(Rs)  Sales_Channel_Code  Vintage  Response\n",
       "0               1.0             40454.0                26.0    217.0       1.0\n",
       "1               2.0             33536.0                26.0    183.0       0.0\n",
       "2               3.0             38294.0                26.0     27.0       1.0\n",
       "3               4.0             28619.0               152.0    203.0       0.0\n",
       "4               5.0             27496.0               152.0     39.0       0.0\n",
       "...             ...                 ...                 ...      ...       ...\n",
       "381104     381105.0             30170.0                26.0     88.0       0.0\n",
       "381105     381106.0             40016.0               152.0    131.0       0.0\n",
       "381106     381107.0             35118.0               160.0    161.0       0.0\n",
       "381107     381108.0             44617.0               124.0     74.0       0.0\n",
       "381108     381109.0             41777.0                26.0    237.0       0.0\n",
       "\n",
       "[381109 rows x 5 columns]"
      ]
     },
     "execution_count": 39,
     "metadata": {},
     "output_type": "execute_result"
    }
   ],
   "source": [
    "df2"
   ]
  },
  {
   "cell_type": "code",
   "execution_count": 40,
   "id": "8e92bc43",
   "metadata": {},
   "outputs": [
    {
     "name": "stdout",
     "output_type": "stream",
     "text": [
      "Null values in customer_id: 387\n"
     ]
    }
   ],
   "source": [
    "# Checking and cleaning data from customer_detalies.csv\n",
    "\n",
    "\n",
    "print('Null values in customer_id:',df2['Customer_id'].isna().sum())\n"
   ]
  },
  {
   "cell_type": "code",
   "execution_count": 41,
   "id": "5970462c",
   "metadata": {},
   "outputs": [
    {
     "name": "stdout",
     "output_type": "stream",
     "text": [
      "Null values in Annual_Premium(Rs): 346\n"
     ]
    }
   ],
   "source": [
    "print('Null values in Annual_Premium(Rs):',df2['Annual_Premium(Rs)'].isna().sum())\n"
   ]
  },
  {
   "cell_type": "code",
   "execution_count": 42,
   "id": "269cc3ce",
   "metadata": {},
   "outputs": [
    {
     "name": "stdout",
     "output_type": "stream",
     "text": [
      "Null values in Sales_Channel_Code: 400\n"
     ]
    }
   ],
   "source": [
    "print('Null values in Sales_Channel_Code:',df2['Sales_Channel_Code'].isna().sum())\n"
   ]
  },
  {
   "cell_type": "code",
   "execution_count": 43,
   "id": "6e3952d5",
   "metadata": {},
   "outputs": [
    {
     "name": "stdout",
     "output_type": "stream",
     "text": [
      "Null values in Vintage: 388\n"
     ]
    }
   ],
   "source": [
    "print('Null values in Vintage:',df2['Vintage'].isna().sum())\n"
   ]
  },
  {
   "cell_type": "code",
   "execution_count": 44,
   "id": "4d78aa1b",
   "metadata": {},
   "outputs": [
    {
     "name": "stdout",
     "output_type": "stream",
     "text": [
      "Null values in Response: 361\n"
     ]
    }
   ],
   "source": [
    "print('Null values in Response:',df2['Response'].isna().sum())\n"
   ]
  },
  {
   "cell_type": "code",
   "execution_count": 45,
   "id": "1dd6473e",
   "metadata": {},
   "outputs": [],
   "source": [
    "#droping and filling Null values\n",
    "\n",
    "df2.dropna(subset=['Customer_id'],inplace=True)"
   ]
  },
  {
   "cell_type": "code",
   "execution_count": 46,
   "id": "07650f09",
   "metadata": {},
   "outputs": [
    {
     "name": "stdout",
     "output_type": "stream",
     "text": [
      "Null values in Customer_id after droping Null values: 0\n"
     ]
    }
   ],
   "source": [
    "df2['Customer_id'].fillna(df2['Customer_id'].mean(),inplace=True)\n",
    "print('Null values in Customer_id after droping Null values:',df2['Customer_id'].isna().sum())"
   ]
  },
  {
   "cell_type": "code",
   "execution_count": 47,
   "id": "0d0e5c4c",
   "metadata": {},
   "outputs": [
    {
     "name": "stdout",
     "output_type": "stream",
     "text": [
      "Null values in  customer_id after droping Null Values: 0\n"
     ]
    }
   ],
   "source": [
    "print('Null values in  customer_id after droping Null Values:',df2['Customer_id'].isna().sum())"
   ]
  },
  {
   "cell_type": "code",
   "execution_count": 48,
   "id": "9b7198f5",
   "metadata": {},
   "outputs": [
    {
     "name": "stdout",
     "output_type": "stream",
     "text": [
      "Null values in Auual_Premium(Rs) after droping Null values: 0\n"
     ]
    }
   ],
   "source": [
    "df2['Annual_Premium(Rs)'].fillna(df2['Annual_Premium(Rs)'].mean(),inplace=True)\n",
    "print('Null values in Auual_Premium(Rs) after droping Null values:',df2['Annual_Premium(Rs)'].isna().sum())"
   ]
  },
  {
   "cell_type": "code",
   "execution_count": 49,
   "id": "19d26033",
   "metadata": {},
   "outputs": [
    {
     "name": "stdout",
     "output_type": "stream",
     "text": [
      "Null values in Sales_Channel_Code  after droping Null values: 0\n"
     ]
    }
   ],
   "source": [
    "df2['Sales_Channel_Code'].fillna(df2['Sales_Channel_Code'].mean(),inplace=True)\n",
    "print('Null values in Sales_Channel_Code  after droping Null values:',df2['Sales_Channel_Code'].isna().sum())"
   ]
  },
  {
   "cell_type": "code",
   "execution_count": 50,
   "id": "1a601d5e",
   "metadata": {},
   "outputs": [
    {
     "name": "stdout",
     "output_type": "stream",
     "text": [
      "Null values in Vintage after droping Null values: 0\n"
     ]
    }
   ],
   "source": [
    "df2['Vintage'].fillna(df2['Vintage'].mean(),inplace=True)\n",
    "print('Null values in Vintage after droping Null values:',df2['Vintage'].isna().sum())"
   ]
  },
  {
   "cell_type": "code",
   "execution_count": 51,
   "id": "b4e1edff",
   "metadata": {},
   "outputs": [
    {
     "name": "stdout",
     "output_type": "stream",
     "text": [
      "Null values in Response after droping Null values: 0\n"
     ]
    }
   ],
   "source": [
    "df2['Response'].fillna(df2['Response'].mean(),inplace=True)\n",
    "print('Null values in Response after droping Null values:',df2['Response'].isna().sum())"
   ]
  },
  {
   "cell_type": "code",
   "execution_count": 52,
   "id": "99992cac",
   "metadata": {},
   "outputs": [
    {
     "data": {
      "text/html": [
       "<div>\n",
       "<style scoped>\n",
       "    .dataframe tbody tr th:only-of-type {\n",
       "        vertical-align: middle;\n",
       "    }\n",
       "\n",
       "    .dataframe tbody tr th {\n",
       "        vertical-align: top;\n",
       "    }\n",
       "\n",
       "    .dataframe thead th {\n",
       "        text-align: right;\n",
       "    }\n",
       "</style>\n",
       "<table border=\"1\" class=\"dataframe\">\n",
       "  <thead>\n",
       "    <tr style=\"text-align: right;\">\n",
       "      <th></th>\n",
       "      <th>Customer_id</th>\n",
       "      <th>Annual_Premium(Rs)</th>\n",
       "      <th>Sales_Channel_Code</th>\n",
       "      <th>Vintage</th>\n",
       "      <th>Response</th>\n",
       "    </tr>\n",
       "  </thead>\n",
       "  <tbody>\n",
       "    <tr>\n",
       "      <th>count</th>\n",
       "      <td>380722.000000</td>\n",
       "      <td>380722.000000</td>\n",
       "      <td>380722.000000</td>\n",
       "      <td>380722.000000</td>\n",
       "      <td>380722.000000</td>\n",
       "    </tr>\n",
       "    <tr>\n",
       "      <th>mean</th>\n",
       "      <td>190547.491663</td>\n",
       "      <td>30563.999774</td>\n",
       "      <td>112.036687</td>\n",
       "      <td>154.347192</td>\n",
       "      <td>0.122526</td>\n",
       "    </tr>\n",
       "    <tr>\n",
       "      <th>std</th>\n",
       "      <td>110013.824148</td>\n",
       "      <td>17190.147550</td>\n",
       "      <td>54.177046</td>\n",
       "      <td>83.628096</td>\n",
       "      <td>0.327737</td>\n",
       "    </tr>\n",
       "    <tr>\n",
       "      <th>min</th>\n",
       "      <td>1.000000</td>\n",
       "      <td>2630.000000</td>\n",
       "      <td>1.000000</td>\n",
       "      <td>10.000000</td>\n",
       "      <td>0.000000</td>\n",
       "    </tr>\n",
       "    <tr>\n",
       "      <th>25%</th>\n",
       "      <td>95276.250000</td>\n",
       "      <td>24416.000000</td>\n",
       "      <td>29.000000</td>\n",
       "      <td>82.000000</td>\n",
       "      <td>0.000000</td>\n",
       "    </tr>\n",
       "    <tr>\n",
       "      <th>50%</th>\n",
       "      <td>190536.500000</td>\n",
       "      <td>31656.000000</td>\n",
       "      <td>131.000000</td>\n",
       "      <td>154.000000</td>\n",
       "      <td>0.000000</td>\n",
       "    </tr>\n",
       "    <tr>\n",
       "      <th>75%</th>\n",
       "      <td>285818.750000</td>\n",
       "      <td>39391.750000</td>\n",
       "      <td>152.000000</td>\n",
       "      <td>227.000000</td>\n",
       "      <td>0.000000</td>\n",
       "    </tr>\n",
       "    <tr>\n",
       "      <th>max</th>\n",
       "      <td>381109.000000</td>\n",
       "      <td>540165.000000</td>\n",
       "      <td>163.000000</td>\n",
       "      <td>299.000000</td>\n",
       "      <td>1.000000</td>\n",
       "    </tr>\n",
       "  </tbody>\n",
       "</table>\n",
       "</div>"
      ],
      "text/plain": [
       "         Customer_id  Annual_Premium(Rs)  Sales_Channel_Code        Vintage  \\\n",
       "count  380722.000000       380722.000000       380722.000000  380722.000000   \n",
       "mean   190547.491663        30563.999774          112.036687     154.347192   \n",
       "std    110013.824148        17190.147550           54.177046      83.628096   \n",
       "min         1.000000         2630.000000            1.000000      10.000000   \n",
       "25%     95276.250000        24416.000000           29.000000      82.000000   \n",
       "50%    190536.500000        31656.000000          131.000000     154.000000   \n",
       "75%    285818.750000        39391.750000          152.000000     227.000000   \n",
       "max    381109.000000       540165.000000          163.000000     299.000000   \n",
       "\n",
       "            Response  \n",
       "count  380722.000000  \n",
       "mean        0.122526  \n",
       "std         0.327737  \n",
       "min         0.000000  \n",
       "25%         0.000000  \n",
       "50%         0.000000  \n",
       "75%         0.000000  \n",
       "max         1.000000  "
      ]
     },
     "execution_count": 52,
     "metadata": {},
     "output_type": "execute_result"
    }
   ],
   "source": [
    "df2.describe()"
   ]
  },
  {
   "cell_type": "code",
   "execution_count": 53,
   "id": "19192483",
   "metadata": {},
   "outputs": [
    {
     "name": "stdout",
     "output_type": "stream",
     "text": [
      "outliners in Annual_Premium(Rs) : 0\n",
      "outliners in Annual_Premium(Rs): 10332\n"
     ]
    }
   ],
   "source": [
    "#Qutliners\n",
    "\n",
    "\n",
    "Q1 = df2.describe().loc[\"25%\",\"Annual_Premium(Rs)\"]\n",
    "Q3 = df2.describe().loc[\"75%\",\"Annual_Premium(Rs)\"]\n",
    "\n",
    "IQR = Q3 - Q1\n",
    "\n",
    "\n",
    "print('outliners in Annual_Premium(Rs) :',df2.loc[df2[\"Annual_Premium(Rs)\"]<(Q1 - IQR*1.5),\"Annual_Premium(Rs)\"].count())\n",
    "print('outliners in Annual_Premium(Rs):',df2.loc[df2[\"Annual_Premium(Rs)\"]>(Q3 + IQR*1.5),\"Annual_Premium(Rs)\"].count())\n",
    "\n",
    "\n",
    "\n"
   ]
  },
  {
   "cell_type": "code",
   "execution_count": 54,
   "id": "4ef6c10f",
   "metadata": {},
   "outputs": [],
   "source": [
    "mean = df2[\"Annual_Premium(Rs)\"].mean()"
   ]
  },
  {
   "cell_type": "code",
   "execution_count": 55,
   "id": "a438ac90",
   "metadata": {
    "scrolled": true
   },
   "outputs": [
    {
     "data": {
      "text/plain": [
       "30563.99977390893"
      ]
     },
     "execution_count": 55,
     "metadata": {},
     "output_type": "execute_result"
    }
   ],
   "source": [
    "mean"
   ]
  },
  {
   "cell_type": "code",
   "execution_count": 56,
   "id": "5c2fd428",
   "metadata": {},
   "outputs": [],
   "source": [
    "df2.loc[df2[\"Annual_Premium(Rs)\"]>(Q3 + IQR*1.5),\"Annual_Premium(Rs)\"]=np.nan"
   ]
  },
  {
   "cell_type": "code",
   "execution_count": 57,
   "id": "7211e294",
   "metadata": {},
   "outputs": [],
   "source": [
    "\n",
    "\n",
    "\n",
    "df2.fillna(mean,inplace=True)"
   ]
  },
  {
   "cell_type": "code",
   "execution_count": 58,
   "id": "2f7e3905",
   "metadata": {},
   "outputs": [
    {
     "name": "stdout",
     "output_type": "stream",
     "text": [
      "outliners in Annual_Premium(Rs): 0\n"
     ]
    }
   ],
   "source": [
    "print('outliners in Annual_Premium(Rs):',df2.loc[df2[\"Annual_Premium(Rs)\"]>(Q3 + IQR*1.5),\"Annual_Premium(Rs)\"].count())"
   ]
  },
  {
   "cell_type": "code",
   "execution_count": 59,
   "id": "038a878f",
   "metadata": {},
   "outputs": [
    {
     "data": {
      "text/plain": [
       "0         40454.0\n",
       "1         33536.0\n",
       "2         38294.0\n",
       "3         28619.0\n",
       "4         27496.0\n",
       "           ...   \n",
       "381104    30170.0\n",
       "381105    40016.0\n",
       "381106    35118.0\n",
       "381107    44617.0\n",
       "381108    41777.0\n",
       "Name: Annual_Premium(Rs), Length: 380722, dtype: float64"
      ]
     },
     "execution_count": 59,
     "metadata": {},
     "output_type": "execute_result"
    }
   ],
   "source": [
    "df2['Annual_Premium(Rs)']"
   ]
  },
  {
   "cell_type": "code",
   "execution_count": 60,
   "id": "3951f86b",
   "metadata": {},
   "outputs": [
    {
     "name": "stdout",
     "output_type": "stream",
     "text": [
      "<bound method NDFrame._add_numeric_operations.<locals>.sum of 0         False\n",
      "1         False\n",
      "2         False\n",
      "3         False\n",
      "4         False\n",
      "          ...  \n",
      "381104    False\n",
      "381105    False\n",
      "381106    False\n",
      "381107    False\n",
      "381108    False\n",
      "Length: 380722, dtype: bool>\n"
     ]
    }
   ],
   "source": [
    "# white space, case correction\n",
    "\n",
    "# drop duplicate\n",
    "\n",
    "print(df2.duplicated().sum)"
   ]
  },
  {
   "cell_type": "code",
   "execution_count": null,
   "id": "e58c2d2a",
   "metadata": {},
   "outputs": [],
   "source": [
    "\n"
   ]
  },
  {
   "cell_type": "code",
   "execution_count": 61,
   "id": "770dc7b2",
   "metadata": {},
   "outputs": [],
   "source": [
    "# merging the data\n",
    "\n",
    "master_data=pd.merge(df1,df2,on='Customer_id')"
   ]
  },
  {
   "cell_type": "code",
   "execution_count": 62,
   "id": "af69ca18",
   "metadata": {},
   "outputs": [
    {
     "data": {
      "text/html": [
       "<div>\n",
       "<style scoped>\n",
       "    .dataframe tbody tr th:only-of-type {\n",
       "        vertical-align: middle;\n",
       "    }\n",
       "\n",
       "    .dataframe tbody tr th {\n",
       "        vertical-align: top;\n",
       "    }\n",
       "\n",
       "    .dataframe thead th {\n",
       "        text-align: right;\n",
       "    }\n",
       "</style>\n",
       "<table border=\"1\" class=\"dataframe\">\n",
       "  <thead>\n",
       "    <tr style=\"text-align: right;\">\n",
       "      <th></th>\n",
       "      <th>Customer_id</th>\n",
       "      <th>Gender</th>\n",
       "      <th>Age</th>\n",
       "      <th>Driving_Licence_Present</th>\n",
       "      <th>Region_Code</th>\n",
       "      <th>Previously_Insured</th>\n",
       "      <th>Vehicle_Age</th>\n",
       "      <th>Vehicle_Damage</th>\n",
       "      <th>Vehicle_damage</th>\n",
       "      <th>Annual_Premium(Rs)</th>\n",
       "      <th>Sales_Channel_Code</th>\n",
       "      <th>Vintage</th>\n",
       "      <th>Response</th>\n",
       "    </tr>\n",
       "  </thead>\n",
       "  <tbody>\n",
       "    <tr>\n",
       "      <th>0</th>\n",
       "      <td>386</td>\n",
       "      <td>male</td>\n",
       "      <td>44.0</td>\n",
       "      <td>1.0</td>\n",
       "      <td>28.0</td>\n",
       "      <td>0.0</td>\n",
       "      <td>&gt; 2 years</td>\n",
       "      <td>Yes</td>\n",
       "      <td>yes</td>\n",
       "      <td>38452.0</td>\n",
       "      <td>26.0</td>\n",
       "      <td>51.0</td>\n",
       "      <td>0.0</td>\n",
       "    </tr>\n",
       "    <tr>\n",
       "      <th>1</th>\n",
       "      <td>386</td>\n",
       "      <td>male</td>\n",
       "      <td>76.0</td>\n",
       "      <td>1.0</td>\n",
       "      <td>3.0</td>\n",
       "      <td>0.0</td>\n",
       "      <td>1-2 year</td>\n",
       "      <td>No</td>\n",
       "      <td>no</td>\n",
       "      <td>38452.0</td>\n",
       "      <td>26.0</td>\n",
       "      <td>51.0</td>\n",
       "      <td>0.0</td>\n",
       "    </tr>\n",
       "    <tr>\n",
       "      <th>2</th>\n",
       "      <td>386</td>\n",
       "      <td>male</td>\n",
       "      <td>47.0</td>\n",
       "      <td>1.0</td>\n",
       "      <td>28.0</td>\n",
       "      <td>0.0</td>\n",
       "      <td>&gt; 2 years</td>\n",
       "      <td>Yes</td>\n",
       "      <td>yes</td>\n",
       "      <td>38452.0</td>\n",
       "      <td>26.0</td>\n",
       "      <td>51.0</td>\n",
       "      <td>0.0</td>\n",
       "    </tr>\n",
       "    <tr>\n",
       "      <th>3</th>\n",
       "      <td>386</td>\n",
       "      <td>male</td>\n",
       "      <td>21.0</td>\n",
       "      <td>1.0</td>\n",
       "      <td>11.0</td>\n",
       "      <td>1.0</td>\n",
       "      <td>&lt; 1 year</td>\n",
       "      <td>No</td>\n",
       "      <td>no</td>\n",
       "      <td>38452.0</td>\n",
       "      <td>26.0</td>\n",
       "      <td>51.0</td>\n",
       "      <td>0.0</td>\n",
       "    </tr>\n",
       "    <tr>\n",
       "      <th>4</th>\n",
       "      <td>386</td>\n",
       "      <td>female</td>\n",
       "      <td>29.0</td>\n",
       "      <td>1.0</td>\n",
       "      <td>41.0</td>\n",
       "      <td>1.0</td>\n",
       "      <td>&lt; 1 year</td>\n",
       "      <td>No</td>\n",
       "      <td>no</td>\n",
       "      <td>38452.0</td>\n",
       "      <td>26.0</td>\n",
       "      <td>51.0</td>\n",
       "      <td>0.0</td>\n",
       "    </tr>\n",
       "    <tr>\n",
       "      <th>...</th>\n",
       "      <td>...</td>\n",
       "      <td>...</td>\n",
       "      <td>...</td>\n",
       "      <td>...</td>\n",
       "      <td>...</td>\n",
       "      <td>...</td>\n",
       "      <td>...</td>\n",
       "      <td>...</td>\n",
       "      <td>...</td>\n",
       "      <td>...</td>\n",
       "      <td>...</td>\n",
       "      <td>...</td>\n",
       "      <td>...</td>\n",
       "    </tr>\n",
       "    <tr>\n",
       "      <th>381104</th>\n",
       "      <td>386</td>\n",
       "      <td>male</td>\n",
       "      <td>74.0</td>\n",
       "      <td>1.0</td>\n",
       "      <td>26.0</td>\n",
       "      <td>1.0</td>\n",
       "      <td>1-2 year</td>\n",
       "      <td>No</td>\n",
       "      <td>no</td>\n",
       "      <td>38452.0</td>\n",
       "      <td>26.0</td>\n",
       "      <td>51.0</td>\n",
       "      <td>0.0</td>\n",
       "    </tr>\n",
       "    <tr>\n",
       "      <th>381105</th>\n",
       "      <td>386</td>\n",
       "      <td>male</td>\n",
       "      <td>30.0</td>\n",
       "      <td>1.0</td>\n",
       "      <td>37.0</td>\n",
       "      <td>1.0</td>\n",
       "      <td>&lt; 1 year</td>\n",
       "      <td>No</td>\n",
       "      <td>no</td>\n",
       "      <td>38452.0</td>\n",
       "      <td>26.0</td>\n",
       "      <td>51.0</td>\n",
       "      <td>0.0</td>\n",
       "    </tr>\n",
       "    <tr>\n",
       "      <th>381106</th>\n",
       "      <td>386</td>\n",
       "      <td>male</td>\n",
       "      <td>21.0</td>\n",
       "      <td>1.0</td>\n",
       "      <td>30.0</td>\n",
       "      <td>1.0</td>\n",
       "      <td>&lt; 1 year</td>\n",
       "      <td>No</td>\n",
       "      <td>no</td>\n",
       "      <td>38452.0</td>\n",
       "      <td>26.0</td>\n",
       "      <td>51.0</td>\n",
       "      <td>0.0</td>\n",
       "    </tr>\n",
       "    <tr>\n",
       "      <th>381107</th>\n",
       "      <td>386</td>\n",
       "      <td>female</td>\n",
       "      <td>68.0</td>\n",
       "      <td>1.0</td>\n",
       "      <td>14.0</td>\n",
       "      <td>0.0</td>\n",
       "      <td>&gt; 2 years</td>\n",
       "      <td>Yes</td>\n",
       "      <td>yes</td>\n",
       "      <td>38452.0</td>\n",
       "      <td>26.0</td>\n",
       "      <td>51.0</td>\n",
       "      <td>0.0</td>\n",
       "    </tr>\n",
       "    <tr>\n",
       "      <th>381108</th>\n",
       "      <td>386</td>\n",
       "      <td>male</td>\n",
       "      <td>46.0</td>\n",
       "      <td>1.0</td>\n",
       "      <td>29.0</td>\n",
       "      <td>0.0</td>\n",
       "      <td>1-2 year</td>\n",
       "      <td>No</td>\n",
       "      <td>no</td>\n",
       "      <td>38452.0</td>\n",
       "      <td>26.0</td>\n",
       "      <td>51.0</td>\n",
       "      <td>0.0</td>\n",
       "    </tr>\n",
       "  </tbody>\n",
       "</table>\n",
       "<p>381109 rows × 13 columns</p>\n",
       "</div>"
      ],
      "text/plain": [
       "        Customer_id  Gender   Age  Driving_Licence_Present  Region_Code  \\\n",
       "0               386    male  44.0                      1.0         28.0   \n",
       "1               386    male  76.0                      1.0          3.0   \n",
       "2               386    male  47.0                      1.0         28.0   \n",
       "3               386    male  21.0                      1.0         11.0   \n",
       "4               386  female  29.0                      1.0         41.0   \n",
       "...             ...     ...   ...                      ...          ...   \n",
       "381104          386    male  74.0                      1.0         26.0   \n",
       "381105          386    male  30.0                      1.0         37.0   \n",
       "381106          386    male  21.0                      1.0         30.0   \n",
       "381107          386  female  68.0                      1.0         14.0   \n",
       "381108          386    male  46.0                      1.0         29.0   \n",
       "\n",
       "        Previously_Insured Vehicle_Age Vehicle_Damage Vehicle_damage  \\\n",
       "0                      0.0   > 2 years            Yes            yes   \n",
       "1                      0.0    1-2 year             No             no   \n",
       "2                      0.0   > 2 years            Yes            yes   \n",
       "3                      1.0    < 1 year             No             no   \n",
       "4                      1.0    < 1 year             No             no   \n",
       "...                    ...         ...            ...            ...   \n",
       "381104                 1.0    1-2 year             No             no   \n",
       "381105                 1.0    < 1 year             No             no   \n",
       "381106                 1.0    < 1 year             No             no   \n",
       "381107                 0.0   > 2 years            Yes            yes   \n",
       "381108                 0.0    1-2 year             No             no   \n",
       "\n",
       "        Annual_Premium(Rs)  Sales_Channel_Code  Vintage  Response  \n",
       "0                  38452.0                26.0     51.0       0.0  \n",
       "1                  38452.0                26.0     51.0       0.0  \n",
       "2                  38452.0                26.0     51.0       0.0  \n",
       "3                  38452.0                26.0     51.0       0.0  \n",
       "4                  38452.0                26.0     51.0       0.0  \n",
       "...                    ...                 ...      ...       ...  \n",
       "381104             38452.0                26.0     51.0       0.0  \n",
       "381105             38452.0                26.0     51.0       0.0  \n",
       "381106             38452.0                26.0     51.0       0.0  \n",
       "381107             38452.0                26.0     51.0       0.0  \n",
       "381108             38452.0                26.0     51.0       0.0  \n",
       "\n",
       "[381109 rows x 13 columns]"
      ]
     },
     "execution_count": 62,
     "metadata": {},
     "output_type": "execute_result"
    }
   ],
   "source": [
    "master_data"
   ]
  },
  {
   "cell_type": "code",
   "execution_count": 63,
   "id": "02aeb051",
   "metadata": {},
   "outputs": [],
   "source": [
    "#Gender wise average annual premium\n",
    "\n",
    "gwap=master_data.groupby([\"Gender\"])[\"Annual_Premium(Rs)\"].mean()"
   ]
  },
  {
   "cell_type": "code",
   "execution_count": 64,
   "id": "dbe30ca7",
   "metadata": {},
   "outputs": [
    {
     "data": {
      "text/plain": [
       "Gender\n",
       "female    38452.0\n",
       "male      38452.0\n",
       "Name: Annual_Premium(Rs), dtype: float64"
      ]
     },
     "execution_count": 64,
     "metadata": {},
     "output_type": "execute_result"
    }
   ],
   "source": [
    "gwap"
   ]
  },
  {
   "cell_type": "code",
   "execution_count": 65,
   "id": "53bda01f",
   "metadata": {},
   "outputs": [],
   "source": [
    "#Age wise average annual premium\n",
    "\n",
    "awap=master_data.groupby([\"Age\"])[\"Annual_Premium(Rs)\"].mean()"
   ]
  },
  {
   "cell_type": "code",
   "execution_count": 66,
   "id": "05a3c694",
   "metadata": {},
   "outputs": [
    {
     "data": {
      "text/plain": [
       "Age\n",
       "20.0    38452.0\n",
       "21.0    38452.0\n",
       "22.0    38452.0\n",
       "23.0    38452.0\n",
       "24.0    38452.0\n",
       "         ...   \n",
       "81.0    38452.0\n",
       "82.0    38452.0\n",
       "83.0    38452.0\n",
       "84.0    38452.0\n",
       "85.0    38452.0\n",
       "Name: Annual_Premium(Rs), Length: 67, dtype: float64"
      ]
     },
     "execution_count": 66,
     "metadata": {},
     "output_type": "execute_result"
    }
   ],
   "source": [
    "awap"
   ]
  },
  {
   "cell_type": "code",
   "execution_count": 67,
   "id": "21ccfcf3",
   "metadata": {},
   "outputs": [
    {
     "data": {
      "text/html": [
       "<div>\n",
       "<style scoped>\n",
       "    .dataframe tbody tr th:only-of-type {\n",
       "        vertical-align: middle;\n",
       "    }\n",
       "\n",
       "    .dataframe tbody tr th {\n",
       "        vertical-align: top;\n",
       "    }\n",
       "\n",
       "    .dataframe thead th {\n",
       "        text-align: right;\n",
       "    }\n",
       "</style>\n",
       "<table border=\"1\" class=\"dataframe\">\n",
       "  <thead>\n",
       "    <tr style=\"text-align: right;\">\n",
       "      <th></th>\n",
       "      <th>Customer_id</th>\n",
       "      <th>Age</th>\n",
       "      <th>Driving_Licence_Present</th>\n",
       "      <th>Region_Code</th>\n",
       "      <th>Previously_Insured</th>\n",
       "      <th>Vehicle_Age</th>\n",
       "      <th>Vehicle_Damage</th>\n",
       "      <th>Vehicle_damage</th>\n",
       "      <th>Annual_Premium(Rs)</th>\n",
       "      <th>Sales_Channel_Code</th>\n",
       "      <th>Vintage</th>\n",
       "      <th>Response</th>\n",
       "    </tr>\n",
       "    <tr>\n",
       "      <th>Gender</th>\n",
       "      <th></th>\n",
       "      <th></th>\n",
       "      <th></th>\n",
       "      <th></th>\n",
       "      <th></th>\n",
       "      <th></th>\n",
       "      <th></th>\n",
       "      <th></th>\n",
       "      <th></th>\n",
       "      <th></th>\n",
       "      <th></th>\n",
       "      <th></th>\n",
       "    </tr>\n",
       "  </thead>\n",
       "  <tbody>\n",
       "    <tr>\n",
       "      <th>female</th>\n",
       "      <td>174851</td>\n",
       "      <td>174851</td>\n",
       "      <td>174851</td>\n",
       "      <td>174851</td>\n",
       "      <td>174851</td>\n",
       "      <td>174851</td>\n",
       "      <td>174851</td>\n",
       "      <td>174851</td>\n",
       "      <td>174851</td>\n",
       "      <td>174851</td>\n",
       "      <td>174851</td>\n",
       "      <td>174851</td>\n",
       "    </tr>\n",
       "    <tr>\n",
       "      <th>male</th>\n",
       "      <td>206258</td>\n",
       "      <td>206258</td>\n",
       "      <td>206258</td>\n",
       "      <td>206258</td>\n",
       "      <td>206258</td>\n",
       "      <td>206258</td>\n",
       "      <td>206258</td>\n",
       "      <td>206258</td>\n",
       "      <td>206258</td>\n",
       "      <td>206258</td>\n",
       "      <td>206258</td>\n",
       "      <td>206258</td>\n",
       "    </tr>\n",
       "  </tbody>\n",
       "</table>\n",
       "</div>"
      ],
      "text/plain": [
       "        Customer_id     Age  Driving_Licence_Present  Region_Code  \\\n",
       "Gender                                                              \n",
       "female       174851  174851                   174851       174851   \n",
       "male         206258  206258                   206258       206258   \n",
       "\n",
       "        Previously_Insured  Vehicle_Age  Vehicle_Damage  Vehicle_damage  \\\n",
       "Gender                                                                    \n",
       "female              174851       174851          174851          174851   \n",
       "male                206258       206258          206258          206258   \n",
       "\n",
       "        Annual_Premium(Rs)  Sales_Channel_Code  Vintage  Response  \n",
       "Gender                                                             \n",
       "female              174851              174851   174851    174851  \n",
       "male                206258              206258   206258    206258  "
      ]
     },
     "execution_count": 67,
     "metadata": {},
     "output_type": "execute_result"
    }
   ],
   "source": [
    "#Is your data balanced between the genders?\n",
    "\n",
    "\n",
    "master_data.groupby('Gender').count()"
   ]
  },
  {
   "cell_type": "code",
   "execution_count": 68,
   "id": "b3b4724c",
   "metadata": {},
   "outputs": [],
   "source": [
    "\n",
    "gwap=master_data.groupby([\"Gender\"])[\"Annual_Premium(Rs)\"].mean()"
   ]
  },
  {
   "cell_type": "code",
   "execution_count": 69,
   "id": "33dc5a38",
   "metadata": {},
   "outputs": [
    {
     "data": {
      "text/plain": [
       "Gender\n",
       "female    38452.0\n",
       "male      38452.0\n",
       "Name: Annual_Premium(Rs), dtype: float64"
      ]
     },
     "execution_count": 69,
     "metadata": {},
     "output_type": "execute_result"
    }
   ],
   "source": [
    "gwap"
   ]
  },
  {
   "cell_type": "code",
   "execution_count": 70,
   "id": "76b01fb6",
   "metadata": {},
   "outputs": [],
   "source": [
    "#Vehicle age wise average annual premium\n",
    "\n",
    "vwap=master_data.groupby([\"Vehicle_Age\"])[\"Annual_Premium(Rs)\"].mean()"
   ]
  },
  {
   "cell_type": "code",
   "execution_count": 71,
   "id": "7671625a",
   "metadata": {},
   "outputs": [
    {
     "data": {
      "text/plain": [
       "Vehicle_Age\n",
       "1-2 year     38452.0\n",
       "< 1 year     38452.0\n",
       "> 2 years    38452.0\n",
       "Name: Annual_Premium(Rs), dtype: float64"
      ]
     },
     "execution_count": 71,
     "metadata": {},
     "output_type": "execute_result"
    }
   ],
   "source": [
    "vwap"
   ]
  },
  {
   "cell_type": "code",
   "execution_count": 72,
   "id": "93a3c846",
   "metadata": {},
   "outputs": [
    {
     "data": {
      "text/plain": [
       "nan"
      ]
     },
     "execution_count": 72,
     "metadata": {},
     "output_type": "execute_result"
    }
   ],
   "source": [
    "#relation between Person Age and annual premium (Correlation describes the relationship between two variables). \n",
    "\n",
    "\n",
    "master_data['Age'].corr(master_data[\"Annual_Premium(Rs)\"])"
   ]
  },
  {
   "cell_type": "code",
   "execution_count": 73,
   "id": "1c090560",
   "metadata": {},
   "outputs": [
    {
     "data": {
      "text/html": [
       "<div>\n",
       "<style scoped>\n",
       "    .dataframe tbody tr th:only-of-type {\n",
       "        vertical-align: middle;\n",
       "    }\n",
       "\n",
       "    .dataframe tbody tr th {\n",
       "        vertical-align: top;\n",
       "    }\n",
       "\n",
       "    .dataframe thead th {\n",
       "        text-align: right;\n",
       "    }\n",
       "</style>\n",
       "<table border=\"1\" class=\"dataframe\">\n",
       "  <thead>\n",
       "    <tr style=\"text-align: right;\">\n",
       "      <th></th>\n",
       "      <th>Age</th>\n",
       "      <th>Annual_Premium(Rs)</th>\n",
       "    </tr>\n",
       "  </thead>\n",
       "  <tbody>\n",
       "    <tr>\n",
       "      <th>Age</th>\n",
       "      <td>1.0</td>\n",
       "      <td>NaN</td>\n",
       "    </tr>\n",
       "    <tr>\n",
       "      <th>Annual_Premium(Rs)</th>\n",
       "      <td>NaN</td>\n",
       "      <td>NaN</td>\n",
       "    </tr>\n",
       "  </tbody>\n",
       "</table>\n",
       "</div>"
      ],
      "text/plain": [
       "                    Age  Annual_Premium(Rs)\n",
       "Age                 1.0                 NaN\n",
       "Annual_Premium(Rs)  NaN                 NaN"
      ]
     },
     "execution_count": 73,
     "metadata": {},
     "output_type": "execute_result"
    }
   ],
   "source": [
    "master_data[['Age','Annual_Premium(Rs)']].corr()"
   ]
  },
  {
   "cell_type": "code",
   "execution_count": 74,
   "id": "a4f1d47b",
   "metadata": {},
   "outputs": [],
   "source": [
    "n = master_data['Age'].corr(master_data['Annual_Premium(Rs)'])\n",
    "if n<0.5:\n",
    "    print(\"strong negative relationship\")\n",
    "if n>-0.5 and n<0.5:\n",
    "    print(\"there is no relationship!\")"
   ]
  },
  {
   "cell_type": "code",
   "execution_count": null,
   "id": "b802e8d2",
   "metadata": {},
   "outputs": [],
   "source": []
  },
  {
   "cell_type": "code",
   "execution_count": null,
   "id": "73973fa8",
   "metadata": {},
   "outputs": [],
   "source": []
  }
 ],
 "metadata": {
  "kernelspec": {
   "display_name": "Python 3 (ipykernel)",
   "language": "python",
   "name": "python3"
  },
  "language_info": {
   "codemirror_mode": {
    "name": "ipython",
    "version": 3
   },
   "file_extension": ".py",
   "mimetype": "text/x-python",
   "name": "python",
   "nbconvert_exporter": "python",
   "pygments_lexer": "ipython3",
   "version": "3.9.7"
  }
 },
 "nbformat": 4,
 "nbformat_minor": 5
}
